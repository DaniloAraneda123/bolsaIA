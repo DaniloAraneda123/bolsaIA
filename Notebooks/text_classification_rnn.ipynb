{
 "cells": [
  {
   "cell_type": "markdown",
   "source": [
    "# Text classification with an RNN"
   ],
   "metadata": {
    "id": "9TnJztDZGw-n"
   }
  },
  {
   "cell_type": "markdown",
   "source": [
    "## Setup"
   ],
   "metadata": {
    "id": "_2VQo4bajwUU"
   }
  },
  {
   "cell_type": "code",
   "execution_count": 1,
   "source": [
    "import numpy as np\r\n",
    "import tensorflow_datasets as tfds\r\n",
    "import tensorflow as tf\r\n",
    "import pandas as pd\r\n",
    "tfds.disable_progress_bar()"
   ],
   "outputs": [],
   "metadata": {
    "execution": {
     "iopub.execute_input": "2021-06-16T15:26:56.537721Z",
     "iopub.status.busy": "2021-06-16T15:26:56.536752Z",
     "iopub.status.idle": "2021-06-16T15:26:58.328358Z",
     "shell.execute_reply": "2021-06-16T15:26:58.328758Z"
    },
    "id": "z682XYsrjkY9"
   }
  },
  {
   "cell_type": "code",
   "execution_count": 2,
   "source": [
    "#https://www.tensorflow.org/api_docs/python/tf/config/experimental/set_memory_growth\r\n",
    "physical_devices=tf.config.list_physical_devices('GPU')\r\n",
    "for device in physical_devices:\r\n",
    "   tf.config.experimental.set_memory_growth(device, True)"
   ],
   "outputs": [],
   "metadata": {}
  },
  {
   "cell_type": "markdown",
   "source": [
    "Grafico para evaluar los accuracy"
   ],
   "metadata": {
    "id": "1rXHa-w9JZhb"
   }
  },
  {
   "cell_type": "code",
   "execution_count": 2,
   "source": [
    "import matplotlib.pyplot as plt\r\n",
    "\r\n",
    "def plot_graphs(history, metric):\r\n",
    "  plt.plot(history.history[metric])\r\n",
    "  plt.plot(history.history['val_'+metric], '')\r\n",
    "  plt.xlabel(\"Epochs\")\r\n",
    "  plt.ylabel(metric)\r\n",
    "  plt.legend([metric, 'val_'+metric])"
   ],
   "outputs": [],
   "metadata": {
    "execution": {
     "iopub.execute_input": "2021-06-16T15:26:58.334200Z",
     "iopub.status.busy": "2021-06-16T15:26:58.333260Z",
     "iopub.status.idle": "2021-06-16T15:26:58.568409Z",
     "shell.execute_reply": "2021-06-16T15:26:58.567813Z"
    },
    "id": "Mp1Z7P9pYRSK"
   }
  },
  {
   "cell_type": "markdown",
   "source": [
    "## Setup input pipeline\r\n",
    "\r\n",
    "Importamos los datos del CSV"
   ],
   "metadata": {
    "id": "pRmMubr0jrE2"
   }
  },
  {
   "cell_type": "code",
   "execution_count": 3,
   "source": [
    "dataset, info = tfds.load('imdb_reviews', with_info=True,\r\n",
    "                          as_supervised=True)\r\n",
    "train_dataset, test_dataset = dataset['train'], dataset['test']"
   ],
   "outputs": [],
   "metadata": {}
  },
  {
   "cell_type": "code",
   "execution_count": 4,
   "source": [
    "#Leemos el data set desde la estructura dataset de TensorFlow\r\n",
    "X_train = list(map(lambda x: x[0].numpy(), train_dataset))\r\n",
    "Y_train = list(map(lambda x: x[1].numpy(), train_dataset))\r\n",
    "\r\n",
    "X_test = list(map(lambda x: x[0].numpy(), test_dataset))\r\n",
    "Y_test = list(map(lambda x: x[1].numpy(), test_dataset))\r\n",
    "\r\n",
    "#Realizamos un one hot de la variable target\r\n",
    "dataTrain = pd.DataFrame({'Review':list(map(lambda x: x.decode('utf-8'), X_train)),'Sentimiento':Y_train}) \r\n",
    "dataTrain = pd.get_dummies(dataTrain, columns=['Sentimiento'])\r\n",
    "\r\n",
    "dataTest = pd.DataFrame({'Review': list(map(lambda x: x.decode('utf-8'), X_test)),'Sentimiento':Y_test})\r\n",
    "dataTest = pd.get_dummies(dataTest, columns=['Sentimiento']) "
   ],
   "outputs": [],
   "metadata": {}
  },
  {
   "cell_type": "code",
   "execution_count": 5,
   "source": [
    "#volvemos a crear el dataset\r\n",
    "train_dataset = tf.data.Dataset.from_tensor_slices((dataTrain['Review'].values, dataTrain[['Sentimiento_0','Sentimiento_1']].values))\r\n",
    "test_dataset = tf.data.Dataset.from_tensor_slices((  dataTest['Review'].values,  dataTest[['Sentimiento_0','Sentimiento_1']].values))"
   ],
   "outputs": [],
   "metadata": {}
  },
  {
   "cell_type": "markdown",
   "source": [
    "Creamos los batch con sus pares correspondientes de (Caracteristicas,target)"
   ],
   "metadata": {}
  },
  {
   "cell_type": "code",
   "execution_count": 6,
   "source": [
    "BATCH_SIZE = 64\r\n",
    "BUFFER_SIZE = 10000\r\n",
    "train_dataset = train_dataset.shuffle(BUFFER_SIZE).batch(BATCH_SIZE).prefetch(tf.data.AUTOTUNE)\r\n",
    "test_dataset = test_dataset.batch(BATCH_SIZE).prefetch(tf.data.AUTOTUNE)"
   ],
   "outputs": [],
   "metadata": {}
  },
  {
   "cell_type": "code",
   "execution_count": 7,
   "source": [
    "#primer Batch sus targets\r\n",
    "len(list(train_dataset.as_numpy_iterator())[0][1])"
   ],
   "outputs": [
    {
     "output_type": "execute_result",
     "data": {
      "text/plain": [
       "64"
      ]
     },
     "metadata": {},
     "execution_count": 7
    }
   ],
   "metadata": {}
  },
  {
   "cell_type": "markdown",
   "source": [
    "## Create the text encoder\r\n",
    "Esta capa procesa el texto, es capas de tokenizar el texto y asignar a cada token en numero entero por defecto, ademas calcula cual es el vocabulario.\r\n",
    "Con Adapt le decimos que la capa (vocabulario y tokens) se adapten a esos datos."
   ],
   "metadata": {
    "id": "s5eWCo88voPY"
   }
  },
  {
   "cell_type": "code",
   "execution_count": 8,
   "source": [
    "encoder = tf.keras.layers.experimental.preprocessing.TextVectorization()\r\n",
    "encoder.adapt(train_dataset.map(lambda text, label: text))"
   ],
   "outputs": [],
   "metadata": {
    "execution": {
     "iopub.execute_input": "2021-06-16T15:27:05.300459Z",
     "iopub.status.busy": "2021-06-16T15:27:05.299829Z",
     "iopub.status.idle": "2021-06-16T15:27:09.327398Z",
     "shell.execute_reply": "2021-06-16T15:27:09.326705Z"
    },
    "id": "uC25Lu1Yvuqy"
   }
  },
  {
   "cell_type": "code",
   "execution_count": 9,
   "source": [
    "#De esta forma accedemos al vocabulario , ay que con get_vocabulary da error ya que en ocaciones se almacenaron tokens que no pueden ser decodificados con utf-8\r\n",
    "def _get_vocabulary(vectorize_layer):\r\n",
    "    keys, values = vectorize_layer._index_lookup_layer._table_handler.data()\r\n",
    "    list=[]\r\n",
    "    for _, x in sorted(zip(values, keys)):\r\n",
    "        try:\r\n",
    "            list.append(x.decode('utf-8'))\r\n",
    "        except:\r\n",
    "            list.append(x)\r\n",
    "    return list\r\n",
    "\r\n",
    "#Forma auxliar de Ver el vocabulario\r\n",
    "vocab=_get_vocabulary(encoder)\r\n",
    "\r\n",
    "#Forma original\r\n",
    "# vocab = np.array(encoder.get_vocabulary())\r\n",
    "# vocab[:20]\r\n"
   ],
   "outputs": [],
   "metadata": {}
  },
  {
   "cell_type": "markdown",
   "source": [
    "Once the vocabulary is set, the layer can encode text into indices. The tensors of indices are 0-padded to the longest sequence in the batch (unless you set a fixed `output_sequence_length`):"
   ],
   "metadata": {
    "id": "mjId5pua3jHQ"
   }
  },
  {
   "cell_type": "markdown",
   "source": [
    "## Create the model"
   ],
   "metadata": {
    "id": "bjUqGVBxGw-t"
   }
  },
  {
   "cell_type": "markdown",
   "source": [
    "Above is a diagram of the model. \n",
    "\n",
    "1. This model can be build as a `tf.keras.Sequential`.\n",
    "\n",
    "2. The first layer is the `encoder`, which converts the text to a sequence of token indices.\n",
    "\n",
    "3. After the encoder is an embedding layer. An embedding layer stores one vector per word. When called, it converts the sequences of word indices to sequences of vectors. These vectors are trainable. After training (on enough data), words with similar meanings often have similar vectors.\n",
    "\n",
    "  This index-lookup is much more efficient than the equivalent operation of passing a one-hot encoded vector through a `tf.keras.layers.Dense` layer.\n",
    "\n",
    "4. A recurrent neural network (RNN) processes sequence input by iterating through the elements. RNNs pass the outputs from one timestep to their input on the next timestep.\n",
    "\n",
    "  The `tf.keras.layers.Bidirectional` wrapper can also be used with an RNN layer. This propagates the input forward and backwards through the RNN layer and then concatenates the final output. \n",
    "\n",
    "  * The main advantage of a bidirectional RNN is that the signal from the beginning of the input doesn't need to be processed all the way through every timestep to affect the output.  \n",
    "\n",
    "  * The main disadvantage of a bidirectional RNN is that you can't efficiently stream predictions as words are being added to the end.\n",
    "\n",
    "5. After the RNN has converted the sequence to a single vector the two `layers.Dense` do some final processing, and convert from this vector representation to a single logit as the classification output. \n"
   ],
   "metadata": {
    "id": "bgs6nnSTGw-t"
   }
  },
  {
   "cell_type": "markdown",
   "source": [
    "The code to implement this is below:"
   ],
   "metadata": {
    "id": "V4fodCI7soQi"
   }
  },
  {
   "cell_type": "code",
   "execution_count": 10,
   "source": [
    "model = tf.keras.Sequential([\r\n",
    "    encoder,\r\n",
    "    tf.keras.layers.Embedding(\r\n",
    "        input_dim=len(vocab)+1,\r\n",
    "        output_dim=64,\r\n",
    "        mask_zero=True),\r\n",
    "    tf.keras.layers.Bidirectional(tf.keras.layers.LSTM(64)),\r\n",
    "    tf.keras.layers.Dense(64, activation='relu'),\r\n",
    "    tf.keras.layers.Dense(2,activation='softmax')\r\n",
    "])"
   ],
   "outputs": [],
   "metadata": {
    "execution": {
     "iopub.execute_input": "2021-06-16T15:27:09.381161Z",
     "iopub.status.busy": "2021-06-16T15:27:09.380537Z",
     "iopub.status.idle": "2021-06-16T15:27:09.384852Z",
     "shell.execute_reply": "2021-06-16T15:27:09.384328Z"
    },
    "id": "LwfoBkmRYcP3"
   }
  },
  {
   "cell_type": "markdown",
   "source": [
    "Please note that Keras sequential model is used here since all the layers in the model only have single input and produce single output. In case you want to use stateful RNN layer, you might want to build your model with Keras functional API or model subclassing so that you can retrieve and reuse the RNN layer states. Please check [Keras RNN guide](https://www.tensorflow.org/guide/keras/rnn#rnn_state_reuse) for more details."
   ],
   "metadata": {
    "id": "QIGmIGkkouUb"
   }
  },
  {
   "cell_type": "markdown",
   "source": [
    "To confirm that this works as expected, evaluate a sentence twice. First, alone so there's no padding to mask:"
   ],
   "metadata": {
    "id": "ZlS0iaUIWLpI"
   }
  },
  {
   "cell_type": "code",
   "execution_count": 11,
   "source": [
    "# predict on a sample text without padding.\r\n",
    "\r\n",
    "sample_text1 = 'The movie was cool. The animation and the graphics'\r\n",
    "sample_text2 = 'The movie was terrible. so bad'\r\n",
    "a= np.array([sample_text1,sample_text2])\r\n",
    "predictions = model.predict(a)\r\n",
    "print(predictions)"
   ],
   "outputs": [
    {
     "output_type": "stream",
     "name": "stdout",
     "text": [
      "[[0.5011362  0.49886382]\n",
      " [0.5030087  0.49699125]]\n"
     ]
    }
   ],
   "metadata": {
    "execution": {
     "iopub.execute_input": "2021-06-16T15:27:09.395682Z",
     "iopub.status.busy": "2021-06-16T15:27:09.395022Z",
     "iopub.status.idle": "2021-06-16T15:27:14.944725Z",
     "shell.execute_reply": "2021-06-16T15:27:14.945164Z"
    },
    "id": "O41gw3KfWHus"
   }
  },
  {
   "cell_type": "markdown",
   "source": [
    "Compile the Keras model to configure the training process:"
   ],
   "metadata": {
    "id": "sRI776ZcH3Tf"
   }
  },
  {
   "cell_type": "code",
   "execution_count": 12,
   "source": [
    "#Con from logist asumimos que se trata de una distribucion de probabilidad\r\n",
    "#https://www.tensorflow.org/api_docs/python/tf/keras/losses/CategoricalCrossentropy\r\n",
    "model.compile(loss=tf.keras.losses.CategoricalCrossentropy(from_logits=False),optimizer=tf.keras.optimizers.Adam(1e-4),metrics=['accuracy'])\r\n",
    "print(model.summary())"
   ],
   "outputs": [
    {
     "output_type": "stream",
     "name": "stdout",
     "text": [
      "Model: \"sequential\"\n",
      "_________________________________________________________________\n",
      "Layer (type)                 Output Shape              Param #   \n",
      "=================================================================\n",
      "text_vectorization (TextVect (None, None)              0         \n",
      "_________________________________________________________________\n",
      "embedding (Embedding)        (None, None, 64)          7793792   \n",
      "_________________________________________________________________\n",
      "bidirectional (Bidirectional (None, 128)               66048     \n",
      "_________________________________________________________________\n",
      "dense (Dense)                (None, 64)                8256      \n",
      "_________________________________________________________________\n",
      "dense_1 (Dense)              (None, 2)                 130       \n",
      "=================================================================\n",
      "Total params: 7,868,226\n",
      "Trainable params: 7,868,226\n",
      "Non-trainable params: 0\n",
      "_________________________________________________________________\n",
      "None\n"
     ]
    }
   ],
   "metadata": {
    "execution": {
     "iopub.execute_input": "2021-06-16T15:27:15.097667Z",
     "iopub.status.busy": "2021-06-16T15:27:15.097133Z",
     "iopub.status.idle": "2021-06-16T15:27:15.102308Z",
     "shell.execute_reply": "2021-06-16T15:27:15.102633Z"
    },
    "id": "kj2xei41YZjC"
   }
  },
  {
   "cell_type": "markdown",
   "source": [
    "## Train the model"
   ],
   "metadata": {
    "id": "zIwH3nto596k"
   }
  },
  {
   "cell_type": "code",
   "execution_count": 13,
   "source": [
    "history = model.fit(train_dataset, epochs=5,validation_data=test_dataset,validation_steps=30)"
   ],
   "outputs": [
    {
     "output_type": "stream",
     "name": "stdout",
     "text": [
      "Epoch 1/5\n",
      "391/391 [==============================] - 106s 246ms/step - loss: 0.6125 - accuracy: 0.6564 - val_loss: 0.4310 - val_accuracy: 0.8286\n",
      "Epoch 2/5\n",
      "391/391 [==============================] - 92s 236ms/step - loss: 0.2801 - accuracy: 0.8927 - val_loss: 0.3565 - val_accuracy: 0.8672\n",
      "Epoch 3/5\n",
      "391/391 [==============================] - 94s 240ms/step - loss: 0.1530 - accuracy: 0.9465 - val_loss: 0.3448 - val_accuracy: 0.8807\n",
      "Epoch 4/5\n",
      "391/391 [==============================] - 93s 238ms/step - loss: 0.0882 - accuracy: 0.9734 - val_loss: 0.3395 - val_accuracy: 0.8729\n",
      "Epoch 5/5\n",
      "391/391 [==============================] - 78s 199ms/step - loss: 0.0488 - accuracy: 0.9874 - val_loss: 0.4162 - val_accuracy: 0.8698\n"
     ]
    }
   ],
   "metadata": {
    "execution": {
     "iopub.execute_input": "2021-06-16T15:27:15.106445Z",
     "iopub.status.busy": "2021-06-16T15:27:15.105926Z",
     "iopub.status.idle": "2021-06-16T15:32:34.972029Z",
     "shell.execute_reply": "2021-06-16T15:32:34.972405Z"
    },
    "id": "hw86wWS4YgR2"
   }
  },
  {
   "cell_type": "code",
   "execution_count": 14,
   "source": [
    "test_loss, test_acc = model.evaluate(test_dataset)\r\n",
    "\r\n",
    "print('Test Loss:', test_loss)\r\n",
    "print('Test Accuracy:', test_acc)"
   ],
   "outputs": [
    {
     "output_type": "stream",
     "name": "stdout",
     "text": [
      "391/391 [==============================] - 22s 56ms/step - loss: 0.4141 - accuracy: 0.8658\n",
      "Test Loss: 0.41406798362731934\n",
      "Test Accuracy: 0.8658000230789185\n"
     ]
    }
   ],
   "metadata": {
    "execution": {
     "iopub.execute_input": "2021-06-16T15:32:34.977631Z",
     "iopub.status.busy": "2021-06-16T15:32:34.976731Z",
     "iopub.status.idle": "2021-06-16T15:32:49.370252Z",
     "shell.execute_reply": "2021-06-16T15:32:49.370587Z"
    },
    "id": "BaNbXi43YgUT"
   }
  },
  {
   "cell_type": "code",
   "execution_count": 15,
   "source": [
    "plt.figure(figsize=(16, 8))\r\n",
    "plt.subplot(1, 2, 1)\r\n",
    "plot_graphs(history, 'accuracy')\r\n",
    "plt.ylim(None, 1)\r\n",
    "plt.subplot(1, 2, 2)\r\n",
    "plot_graphs(history, 'loss')\r\n",
    "plt.ylim(0, None)"
   ],
   "outputs": [
    {
     "output_type": "execute_result",
     "data": {
      "text/plain": [
       "(0.0, 0.6406636176630854)"
      ]
     },
     "metadata": {},
     "execution_count": 15
    },
    {
     "output_type": "display_data",
     "data": {
      "text/plain": [
       "<Figure size 1152x576 with 2 Axes>"
      ],
      "image/png": "[encoded data removed]"
     },
     "metadata": {
      "needs_background": "light"
     }
    }
   ],
   "metadata": {
    "execution": {
     "iopub.execute_input": "2021-06-16T15:32:49.393077Z",
     "iopub.status.busy": "2021-06-16T15:32:49.386490Z",
     "iopub.status.idle": "2021-06-16T15:32:49.614170Z",
     "shell.execute_reply": "2021-06-16T15:32:49.614505Z"
    },
    "id": "OZmwt_mzaQJk"
   }
  },
  {
   "cell_type": "markdown",
   "source": [
    "Run a prediction on a new sentence:\n",
    "\n",
    "If the prediction is >= 0.0, it is positive else it is negative."
   ],
   "metadata": {
    "id": "DwSE_386uhxD"
   }
  },
  {
   "cell_type": "code",
   "execution_count": 19,
   "source": [
    "sample_text = ('were out of this world. I wouldnt recommend this good movi')\r\n",
    "predictions = model.predict(np.array([sample_text]))\r\n",
    "predictions"
   ],
   "outputs": [
    {
     "output_type": "execute_result",
     "data": {
      "text/plain": [
       "array([[0.3178072, 0.6821928]], dtype=float32)"
      ]
     },
     "metadata": {},
     "execution_count": 19
    }
   ],
   "metadata": {
    "execution": {
     "iopub.execute_input": "2021-06-16T15:32:49.619083Z",
     "iopub.status.busy": "2021-06-16T15:32:49.618264Z",
     "iopub.status.idle": "2021-06-16T15:32:51.346760Z",
     "shell.execute_reply": "2021-06-16T15:32:51.347196Z"
    },
    "id": "ZXgfQSgRW6zU"
   }
  },
  {
   "cell_type": "markdown",
   "source": [
    "# Forma de Guardar 1"
   ],
   "metadata": {}
  },
  {
   "cell_type": "code",
   "execution_count": null,
   "source": [
    "#https://www.tensorflow.org/guide/keras/save_and_serialize?hl=es-419\r\n",
    "# Guardar el Modelo\r\n",
    "model.save('modulo3',save_format=\"tf\")"
   ],
   "outputs": [],
   "metadata": {}
  },
  {
   "cell_type": "code",
   "execution_count": 3,
   "source": [
    "# Recrea exactamente el mismo modelo solo desde la carpera formato tf\r\n",
    "new_model = tf.keras.models.load_model('modulo3',compile=True)\r\n",
    "\r\n",
    "sample_text = ('were out of this world. I wouldnt recommend this good movi')\r\n",
    "new_model.predict(np.array([sample_text]))"
   ],
   "outputs": [
    {
     "output_type": "execute_result",
     "data": {
      "text/plain": [
       "array([[0.3178072, 0.6821928]], dtype=float32)"
      ]
     },
     "metadata": {},
     "execution_count": 3
    }
   ],
   "metadata": {}
  },
  {
   "cell_type": "code",
   "execution_count": 16,
   "source": [
    " new_model.get_weights()[9].shape"
   ],
   "outputs": [
    {
     "output_type": "execute_result",
     "data": {
      "text/plain": [
       "(128, 64)"
      ]
     },
     "metadata": {},
     "execution_count": 16
    }
   ],
   "metadata": {}
  },
  {
   "cell_type": "markdown",
   "source": [
    "# Forma de Guarda 2"
   ],
   "metadata": {}
  },
  {
   "cell_type": "code",
   "execution_count": 10,
   "source": [
    "# Guardar configuración JSON en el disco\r\n",
    "json_config = new_model.to_json()\r\n",
    "with open('modelo/model_config.json', 'w') as json_file:\r\n",
    "    json_file.write(json_config)\r\n",
    "# Guardar pesos en el disco\r\n",
    "new_model.save_weights('modelo/path_to_my_weights',save_format=\"tf\")"
   ],
   "outputs": [],
   "metadata": {}
  },
  {
   "cell_type": "code",
   "execution_count": 9,
   "source": [
    "# Recargue el modelo de los 2 archivos que guardamos\r\n",
    "with open('modelo/model_config.json') as json_file:\r\n",
    "    json_config = json_file.read()\r\n",
    "new_model = tf.keras.models.model_from_json(json_config)\r\n",
    "new_model.load_weights('modelo/path_to_my_weights')\r\n",
    "\r\n",
    "sample_text = ('were out of this world. I would recommend this good movi')\r\n",
    "new_model.predict(np.array([sample_text]))"
   ],
   "outputs": [
    {
     "output_type": "execute_result",
     "data": {
      "text/plain": [
       "array([[0.2858246, 0.7141754]], dtype=float32)"
      ]
     },
     "metadata": {},
     "execution_count": 9
    }
   ],
   "metadata": {}
  }
 ],
 "metadata": {
  "accelerator": "GPU",
  "colab": {
   "collapsed_sections": [],
   "name": "text_classification_rnn.ipynb",
   "provenance": [],
   "toc_visible": true
  },
  "interpreter": {
   "hash": "a7dfdbc4ee9db80d4318ba9fb2801f627901e0cbd04779d90f3d55cb6e6e69cb"
  },
  "kernelspec": {
   "display_name": "Python 3.9.4 64-bit ('Proyecto-keI36HvZ': virtualenvwrapper)",
   "name": "python3"
  },
  "language_info": {
   "codemirror_mode": {
    "name": "ipython",
    "version": 3
   },
   "file_extension": ".py",
   "mimetype": "text/x-python",
   "name": "python",
   "nbconvert_exporter": "python",
   "pygments_lexer": "ipython3",
   "version": "3.9.4"
  }
 },
 "nbformat": 4,
 "nbformat_minor": 2
}