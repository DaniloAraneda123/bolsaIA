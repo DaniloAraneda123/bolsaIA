{
 "cells": [
  {
   "cell_type": "code",
   "execution_count": 50,
   "source": [
    "import numpy as np\r\n",
    "import pandas as pd\r\n",
    "import pickle as pk"
   ],
   "outputs": [],
   "metadata": {}
  },
  {
   "cell_type": "code",
   "execution_count": 51,
   "source": [
    "from sklearn.decomposition import PCA\r\n",
    "data=pd.read_csv(\"AMZN_7.csv\",sep=',')\r\n",
    "f=data[\"Date\"]\r\n",
    "data.drop(['Date'], axis=1,inplace=True)\r\n",
    "data"
   ],
   "outputs": [
    {
     "output_type": "execute_result",
     "data": {
      "text/plain": [
       "          Open         High          Low        Close       Target  politica  \\\n",
       "0  3643.560059  3759.989990  3621.120117  3731.409912  3719.340088 -0.234203   \n",
       "1  3722.520020  3748.000000  3693.399902  3719.340088  3718.550049  0.278017   \n",
       "2  3744.000000  3757.290039  3696.790039  3718.550049  3677.360107  0.241463   \n",
       "3  3702.100098  3773.080078  3671.320068  3677.360107  3681.679932 -0.330344   \n",
       "\n",
       "   exterior  ecologia  economia    social  \n",
       "0 -0.199429 -0.230726 -0.222382 -0.245670  \n",
       "1  0.265801  0.284539  0.265109  0.287057  \n",
       "2  0.219018  0.245221  0.218621  0.244458  \n",
       "3 -0.309196 -0.297206 -0.325155 -0.313110  "
      ],
      "text/html": [
       "<div>\n",
       "<style scoped>\n",
       "    .dataframe tbody tr th:only-of-type {\n",
       "        vertical-align: middle;\n",
       "    }\n",
       "\n",
       "    .dataframe tbody tr th {\n",
       "        vertical-align: top;\n",
       "    }\n",
       "\n",
       "    .dataframe thead th {\n",
       "        text-align: right;\n",
       "    }\n",
       "</style>\n",
       "<table border=\"1\" class=\"dataframe\">\n",
       "  <thead>\n",
       "    <tr style=\"text-align: right;\">\n",
       "      <th></th>\n",
       "      <th>Open</th>\n",
       "      <th>High</th>\n",
       "      <th>Low</th>\n",
       "      <th>Close</th>\n",
       "      <th>Target</th>\n",
       "      <th>politica</th>\n",
       "      <th>exterior</th>\n",
       "      <th>ecologia</th>\n",
       "      <th>economia</th>\n",
       "      <th>social</th>\n",
       "    </tr>\n",
       "  </thead>\n",
       "  <tbody>\n",
       "    <tr>\n",
       "      <th>0</th>\n",
       "      <td>3643.560059</td>\n",
       "      <td>3759.989990</td>\n",
       "      <td>3621.120117</td>\n",
       "      <td>3731.409912</td>\n",
       "      <td>3719.340088</td>\n",
       "      <td>-0.234203</td>\n",
       "      <td>-0.199429</td>\n",
       "      <td>-0.230726</td>\n",
       "      <td>-0.222382</td>\n",
       "      <td>-0.245670</td>\n",
       "    </tr>\n",
       "    <tr>\n",
       "      <th>1</th>\n",
       "      <td>3722.520020</td>\n",
       "      <td>3748.000000</td>\n",
       "      <td>3693.399902</td>\n",
       "      <td>3719.340088</td>\n",
       "      <td>3718.550049</td>\n",
       "      <td>0.278017</td>\n",
       "      <td>0.265801</td>\n",
       "      <td>0.284539</td>\n",
       "      <td>0.265109</td>\n",
       "      <td>0.287057</td>\n",
       "    </tr>\n",
       "    <tr>\n",
       "      <th>2</th>\n",
       "      <td>3744.000000</td>\n",
       "      <td>3757.290039</td>\n",
       "      <td>3696.790039</td>\n",
       "      <td>3718.550049</td>\n",
       "      <td>3677.360107</td>\n",
       "      <td>0.241463</td>\n",
       "      <td>0.219018</td>\n",
       "      <td>0.245221</td>\n",
       "      <td>0.218621</td>\n",
       "      <td>0.244458</td>\n",
       "    </tr>\n",
       "    <tr>\n",
       "      <th>3</th>\n",
       "      <td>3702.100098</td>\n",
       "      <td>3773.080078</td>\n",
       "      <td>3671.320068</td>\n",
       "      <td>3677.360107</td>\n",
       "      <td>3681.679932</td>\n",
       "      <td>-0.330344</td>\n",
       "      <td>-0.309196</td>\n",
       "      <td>-0.297206</td>\n",
       "      <td>-0.325155</td>\n",
       "      <td>-0.313110</td>\n",
       "    </tr>\n",
       "  </tbody>\n",
       "</table>\n",
       "</div>"
      ]
     },
     "metadata": {},
     "execution_count": 51
    }
   ],
   "metadata": {}
  },
  {
   "cell_type": "code",
   "execution_count": 52,
   "source": [
    "data.mean()"
   ],
   "outputs": [
    {
     "output_type": "execute_result",
     "data": {
      "text/plain": [
       "Open        3703.045044\n",
       "High        3759.590027\n",
       "Low         3670.657532\n",
       "Close       3711.665039\n",
       "Target      3699.232544\n",
       "politica      -0.011267\n",
       "exterior      -0.005951\n",
       "ecologia       0.000457\n",
       "economia      -0.015952\n",
       "social        -0.006816\n",
       "dtype: float64"
      ]
     },
     "metadata": {},
     "execution_count": 52
    }
   ],
   "metadata": {}
  },
  {
   "cell_type": "code",
   "execution_count": 53,
   "source": [
    "a=(data-data.mean().values)\r\n",
    "t=a[\"Target\"]\r\n",
    "a.drop(['Target'], axis=1,inplace=True)\r\n",
    "a"
   ],
   "outputs": [
    {
     "output_type": "execute_result",
     "data": {
      "text/plain": [
       "        Open       High        Low      Close  politica  exterior  ecologia  \\\n",
       "0 -59.484985   0.399963 -49.537415  19.744873 -0.222936 -0.193477 -0.231183   \n",
       "1  19.474976 -11.590027  22.742371   7.675049  0.289284  0.271753  0.284082   \n",
       "2  40.954956  -2.299988  26.132507   6.885010  0.252730  0.224969  0.244764   \n",
       "3  -0.944946  13.490051   0.662536 -34.304932 -0.319077 -0.303245 -0.297663   \n",
       "\n",
       "   economia    social  \n",
       "0 -0.206430 -0.238854  \n",
       "1  0.281061  0.293873  \n",
       "2  0.234573  0.251274  \n",
       "3 -0.309203 -0.306294  "
      ],
      "text/html": [
       "<div>\n",
       "<style scoped>\n",
       "    .dataframe tbody tr th:only-of-type {\n",
       "        vertical-align: middle;\n",
       "    }\n",
       "\n",
       "    .dataframe tbody tr th {\n",
       "        vertical-align: top;\n",
       "    }\n",
       "\n",
       "    .dataframe thead th {\n",
       "        text-align: right;\n",
       "    }\n",
       "</style>\n",
       "<table border=\"1\" class=\"dataframe\">\n",
       "  <thead>\n",
       "    <tr style=\"text-align: right;\">\n",
       "      <th></th>\n",
       "      <th>Open</th>\n",
       "      <th>High</th>\n",
       "      <th>Low</th>\n",
       "      <th>Close</th>\n",
       "      <th>politica</th>\n",
       "      <th>exterior</th>\n",
       "      <th>ecologia</th>\n",
       "      <th>economia</th>\n",
       "      <th>social</th>\n",
       "    </tr>\n",
       "  </thead>\n",
       "  <tbody>\n",
       "    <tr>\n",
       "      <th>0</th>\n",
       "      <td>-59.484985</td>\n",
       "      <td>0.399963</td>\n",
       "      <td>-49.537415</td>\n",
       "      <td>19.744873</td>\n",
       "      <td>-0.222936</td>\n",
       "      <td>-0.193477</td>\n",
       "      <td>-0.231183</td>\n",
       "      <td>-0.206430</td>\n",
       "      <td>-0.238854</td>\n",
       "    </tr>\n",
       "    <tr>\n",
       "      <th>1</th>\n",
       "      <td>19.474976</td>\n",
       "      <td>-11.590027</td>\n",
       "      <td>22.742371</td>\n",
       "      <td>7.675049</td>\n",
       "      <td>0.289284</td>\n",
       "      <td>0.271753</td>\n",
       "      <td>0.284082</td>\n",
       "      <td>0.281061</td>\n",
       "      <td>0.293873</td>\n",
       "    </tr>\n",
       "    <tr>\n",
       "      <th>2</th>\n",
       "      <td>40.954956</td>\n",
       "      <td>-2.299988</td>\n",
       "      <td>26.132507</td>\n",
       "      <td>6.885010</td>\n",
       "      <td>0.252730</td>\n",
       "      <td>0.224969</td>\n",
       "      <td>0.244764</td>\n",
       "      <td>0.234573</td>\n",
       "      <td>0.251274</td>\n",
       "    </tr>\n",
       "    <tr>\n",
       "      <th>3</th>\n",
       "      <td>-0.944946</td>\n",
       "      <td>13.490051</td>\n",
       "      <td>0.662536</td>\n",
       "      <td>-34.304932</td>\n",
       "      <td>-0.319077</td>\n",
       "      <td>-0.303245</td>\n",
       "      <td>-0.297663</td>\n",
       "      <td>-0.309203</td>\n",
       "      <td>-0.306294</td>\n",
       "    </tr>\n",
       "  </tbody>\n",
       "</table>\n",
       "</div>"
      ]
     },
     "metadata": {},
     "execution_count": 53
    }
   ],
   "metadata": {}
  },
  {
   "cell_type": "code",
   "execution_count": 54,
   "source": [
    "pca=PCA(0.90) # Otra opción es instanciar pca sólo con dimensiones nuevas hasta obtener un mínimo \"explicado\" ej.: pca=PCA(.85)\r\n",
    "pca.fit(a) # obtener los componentes principales\r\n",
    "pk.dump(pca, open(\"pca.pkl\",\"wb\"))"
   ],
   "outputs": [],
   "metadata": {}
  },
  {
   "cell_type": "code",
   "execution_count": 55,
   "source": [
    "pca_resultado = pca.transform(a)"
   ],
   "outputs": [],
   "metadata": {}
  },
  {
   "cell_type": "code",
   "execution_count": 56,
   "source": [
    "nuevaData = pd.DataFrame(pca_resultado)\r\n",
    "nuevaData[\"Target\"]=t\r\n",
    "nuevaData[\"Fecha\"]=f\r\n",
    "nuevaData.set_index('Fecha',inplace=True)\r\n",
    "nuevaData.to_csv(\"nueva_data.csv\",sep=',')"
   ],
   "outputs": [],
   "metadata": {}
  },
  {
   "cell_type": "code",
   "execution_count": 57,
   "source": [
    "nuevaData"
   ],
   "outputs": [
    {
     "output_type": "execute_result",
     "data": {
      "text/plain": [
       "                    0          1     Target\n",
       "Fecha                                      \n",
       "2021-07-08  79.156676 -10.736944  20.107544\n",
       "2021-07-09 -28.804157 -14.112737  19.317505\n",
       "2021-07-12 -47.153814 -11.895822 -21.872437\n",
       "2021-07-13  -3.198705  36.745503 -17.552612"
      ],
      "text/html": [
       "<div>\n",
       "<style scoped>\n",
       "    .dataframe tbody tr th:only-of-type {\n",
       "        vertical-align: middle;\n",
       "    }\n",
       "\n",
       "    .dataframe tbody tr th {\n",
       "        vertical-align: top;\n",
       "    }\n",
       "\n",
       "    .dataframe thead th {\n",
       "        text-align: right;\n",
       "    }\n",
       "</style>\n",
       "<table border=\"1\" class=\"dataframe\">\n",
       "  <thead>\n",
       "    <tr style=\"text-align: right;\">\n",
       "      <th></th>\n",
       "      <th>0</th>\n",
       "      <th>1</th>\n",
       "      <th>Target</th>\n",
       "    </tr>\n",
       "    <tr>\n",
       "      <th>Fecha</th>\n",
       "      <th></th>\n",
       "      <th></th>\n",
       "      <th></th>\n",
       "    </tr>\n",
       "  </thead>\n",
       "  <tbody>\n",
       "    <tr>\n",
       "      <th>2021-07-08</th>\n",
       "      <td>79.156676</td>\n",
       "      <td>-10.736944</td>\n",
       "      <td>20.107544</td>\n",
       "    </tr>\n",
       "    <tr>\n",
       "      <th>2021-07-09</th>\n",
       "      <td>-28.804157</td>\n",
       "      <td>-14.112737</td>\n",
       "      <td>19.317505</td>\n",
       "    </tr>\n",
       "    <tr>\n",
       "      <th>2021-07-12</th>\n",
       "      <td>-47.153814</td>\n",
       "      <td>-11.895822</td>\n",
       "      <td>-21.872437</td>\n",
       "    </tr>\n",
       "    <tr>\n",
       "      <th>2021-07-13</th>\n",
       "      <td>-3.198705</td>\n",
       "      <td>36.745503</td>\n",
       "      <td>-17.552612</td>\n",
       "    </tr>\n",
       "  </tbody>\n",
       "</table>\n",
       "</div>"
      ]
     },
     "metadata": {},
     "execution_count": 57
    }
   ],
   "metadata": {}
  },
  {
   "cell_type": "code",
   "execution_count": 70,
   "source": [
    "inputs=pd.read_csv(\"input.csv\")\r\n",
    "inputs"
   ],
   "outputs": [
    {
     "output_type": "execute_result",
     "data": {
      "text/plain": [
       "      Open     High      Low    Close  target  politica  exterior  ecologia  \\\n",
       "0  3708.85  3717.66  3660.83  3681.68       0  0.174577  0.170407  0.173346   \n",
       "\n",
       "   economia    social  \n",
       "0  0.168217  0.179141  "
      ],
      "text/html": [
       "<div>\n",
       "<style scoped>\n",
       "    .dataframe tbody tr th:only-of-type {\n",
       "        vertical-align: middle;\n",
       "    }\n",
       "\n",
       "    .dataframe tbody tr th {\n",
       "        vertical-align: top;\n",
       "    }\n",
       "\n",
       "    .dataframe thead th {\n",
       "        text-align: right;\n",
       "    }\n",
       "</style>\n",
       "<table border=\"1\" class=\"dataframe\">\n",
       "  <thead>\n",
       "    <tr style=\"text-align: right;\">\n",
       "      <th></th>\n",
       "      <th>Open</th>\n",
       "      <th>High</th>\n",
       "      <th>Low</th>\n",
       "      <th>Close</th>\n",
       "      <th>target</th>\n",
       "      <th>politica</th>\n",
       "      <th>exterior</th>\n",
       "      <th>ecologia</th>\n",
       "      <th>economia</th>\n",
       "      <th>social</th>\n",
       "    </tr>\n",
       "  </thead>\n",
       "  <tbody>\n",
       "    <tr>\n",
       "      <th>0</th>\n",
       "      <td>3708.85</td>\n",
       "      <td>3717.66</td>\n",
       "      <td>3660.83</td>\n",
       "      <td>3681.68</td>\n",
       "      <td>0</td>\n",
       "      <td>0.174577</td>\n",
       "      <td>0.170407</td>\n",
       "      <td>0.173346</td>\n",
       "      <td>0.168217</td>\n",
       "      <td>0.179141</td>\n",
       "    </tr>\n",
       "  </tbody>\n",
       "</table>\n",
       "</div>"
      ]
     },
     "metadata": {},
     "execution_count": 70
    }
   ],
   "metadata": {}
  },
  {
   "cell_type": "code",
   "execution_count": 71,
   "source": [
    "a=(inputs-data.mean().values)\r\n",
    "t=a[\"target\"]\r\n",
    "a.drop(['target'], axis=1,inplace=True)\r\n",
    "a"
   ],
   "outputs": [
    {
     "output_type": "execute_result",
     "data": {
      "text/plain": [
       "       Open       High       Low      Close  politica  exterior  ecologia  \\\n",
       "0  5.804956 -41.930027 -9.827532 -29.985039  0.185844  0.176359  0.172889   \n",
       "\n",
       "   economia    social  \n",
       "0  0.184169  0.185957  "
      ],
      "text/html": [
       "<div>\n",
       "<style scoped>\n",
       "    .dataframe tbody tr th:only-of-type {\n",
       "        vertical-align: middle;\n",
       "    }\n",
       "\n",
       "    .dataframe tbody tr th {\n",
       "        vertical-align: top;\n",
       "    }\n",
       "\n",
       "    .dataframe thead th {\n",
       "        text-align: right;\n",
       "    }\n",
       "</style>\n",
       "<table border=\"1\" class=\"dataframe\">\n",
       "  <thead>\n",
       "    <tr style=\"text-align: right;\">\n",
       "      <th></th>\n",
       "      <th>Open</th>\n",
       "      <th>High</th>\n",
       "      <th>Low</th>\n",
       "      <th>Close</th>\n",
       "      <th>politica</th>\n",
       "      <th>exterior</th>\n",
       "      <th>ecologia</th>\n",
       "      <th>economia</th>\n",
       "      <th>social</th>\n",
       "    </tr>\n",
       "  </thead>\n",
       "  <tbody>\n",
       "    <tr>\n",
       "      <th>0</th>\n",
       "      <td>5.804956</td>\n",
       "      <td>-41.930027</td>\n",
       "      <td>-9.827532</td>\n",
       "      <td>-29.985039</td>\n",
       "      <td>0.185844</td>\n",
       "      <td>0.176359</td>\n",
       "      <td>0.172889</td>\n",
       "      <td>0.184169</td>\n",
       "      <td>0.185957</td>\n",
       "    </tr>\n",
       "  </tbody>\n",
       "</table>\n",
       "</div>"
      ]
     },
     "metadata": {},
     "execution_count": 71
    }
   ],
   "metadata": {}
  },
  {
   "cell_type": "code",
   "execution_count": 75,
   "source": [
    "pca_resultado = pca.transform(a)"
   ],
   "outputs": [],
   "metadata": {}
  },
  {
   "cell_type": "code",
   "execution_count": 76,
   "source": [
    "nuevaData = pd.DataFrame(pca_resultado)\r\n",
    "nuevaData.to_csv(\"inputs_pca.csv\",sep=',')"
   ],
   "outputs": [],
   "metadata": {}
  }
 ],
 "metadata": {
  "orig_nbformat": 4,
  "language_info": {
   "name": "python"
  }
 },
 "nbformat": 4,
 "nbformat_minor": 2
}